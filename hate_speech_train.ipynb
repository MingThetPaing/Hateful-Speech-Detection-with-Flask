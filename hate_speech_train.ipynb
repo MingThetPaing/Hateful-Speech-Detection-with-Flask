{
 "cells": [
  {
   "cell_type": "code",
   "execution_count": 4,
   "metadata": {},
   "outputs": [
    {
     "name": "stdout",
     "output_type": "stream",
     "text": [
      "Model trained and saved successfully.\n"
     ]
    }
   ],
   "source": [
    "import pandas as pd\n",
    "from sklearn.feature_extraction.text import TfidfVectorizer\n",
    "from sklearn.naive_bayes import MultinomialNB\n",
    "from sklearn.pipeline import Pipeline\n",
    "from sklearn.model_selection import train_test_split\n",
    "import joblib\n",
    "\n",
    "# Load dataset\n",
    "def load_data():\n",
    "        df = pd.read_csv(r'c:\\Users\\DELL\\Downloads\\HateSpeechDataset.csv\\HateSpeechDataset.csv')\n",
    "        X = df['Content']\n",
    "        y = df['Label']\n",
    "        return X, y\n",
    "\n",
    "# Train and save model\n",
    "def train_model():\n",
    "    X, y = load_data()\n",
    "    if X is None:\n",
    "        return\n",
    "    \n",
    "    # Split data\n",
    "    X_train, X_test, y_train, y_test = train_test_split(X, y, test_size=0.2, random_state=42)\n",
    "    \n",
    "    # Create pipeline with TF-IDF and Naive Bayes\n",
    "    model = Pipeline([\n",
    "        ('tfidf', TfidfVectorizer(max_features=5000)),\n",
    "        ('clf', MultinomialNB())\n",
    "    ])\n",
    "    \n",
    "    # Train model\n",
    "    model.fit(X_train, y_train)\n",
    "    \n",
    "    # Save model\n",
    "    joblib.dump(model, 'hate_speech_model.joblib')\n",
    "    print(\"Model trained and saved successfully.\")\n",
    "\n",
    "if __name__ == '__main__':\n",
    "    train_model()"
   ]
  }
 ],
 "metadata": {
  "kernelspec": {
   "display_name": "base",
   "language": "python",
   "name": "python3"
  },
  "language_info": {
   "codemirror_mode": {
    "name": "ipython",
    "version": 3
   },
   "file_extension": ".py",
   "mimetype": "text/x-python",
   "name": "python",
   "nbconvert_exporter": "python",
   "pygments_lexer": "ipython3",
   "version": "3.12.7"
  }
 },
 "nbformat": 4,
 "nbformat_minor": 2
}
